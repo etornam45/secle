{
 "cells": [
  {
   "cell_type": "code",
   "execution_count": null,
   "id": "f6a5b5f8",
   "metadata": {},
   "outputs": [
    {
     "name": "stdout",
     "output_type": "stream",
     "text": [
      "Hello, Deno!\n"
     ]
    }
   ],
   "source": [
    "// deno-lint-ignore no-import-prefix\n",
    "import { greet } from \"https://raw.githubusercontent.com/etornam45/torch-ts/refs/heads/main/index.ts\";\n",
    "\n",
    "console.log(greet(\"Deno\"));"
   ]
  }
 ],
 "metadata": {
  "kernelspec": {
   "display_name": "Deno",
   "language": "typescript",
   "name": "deno"
  },
  "language_info": {
   "codemirror_mode": "typescript",
   "file_extension": ".ts",
   "mimetype": "text/x.typescript",
   "name": "typescript",
   "nbconvert_exporter": "script",
   "pygments_lexer": "typescript",
   "version": "5.9.2"
  }
 },
 "nbformat": 4,
 "nbformat_minor": 5
}
