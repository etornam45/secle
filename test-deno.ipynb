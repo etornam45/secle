{
 "cells": [
  {
   "cell_type": "code",
   "execution_count": 3,
   "id": "f6a5b5f8",
   "metadata": {},
   "outputs": [
    {
     "name": "stdout",
     "output_type": "stream",
     "text": [
      "a: Tensor(shape=3,1, data=[1, 2, 3])\n",
      "b: Tensor(shape=3,1, data=[4, 5, 6])\n",
      "c: Tensor(shape=3,1, data=[5, 7, 9])\n"
     ]
    }
   ],
   "source": [
    "import * as torch from \"./index.ts\";\n",
    "\n",
    "\n",
    "const a = new torch.Tensor([1, 2, 3], [3, 1]);\n",
    "const b = new torch.Tensor([4, 5, 6], [3, 1]);\n",
    "const c = torch.add(a, b);\n",
    "console.log(\"a:\", a.toString());\n",
    "console.log(\"b:\", b.toString());\n",
    "console.log(\"c:\", c.toString());"
   ]
  }
 ],
 "metadata": {
  "kernelspec": {
   "display_name": "Deno",
   "language": "typescript",
   "name": "deno"
  },
  "language_info": {
   "codemirror_mode": "typescript",
   "file_extension": ".ts",
   "mimetype": "text/x.typescript",
   "name": "typescript",
   "nbconvert_exporter": "script",
   "pygments_lexer": "typescript",
   "version": "5.9.2"
  }
 },
 "nbformat": 4,
 "nbformat_minor": 5
}
