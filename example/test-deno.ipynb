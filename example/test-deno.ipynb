{
 "cells": [
  {
   "cell_type": "code",
   "execution_count": 1,
   "id": "f6a5b5f8",
   "metadata": {},
   "outputs": [
    {
     "name": "stdout",
     "output_type": "stream",
     "text": [
      "a: Tensor(shape=[3,1])\n",
      "b: Tensor(shape=[3,1])\n",
      "c: Tensor(shape=[3,1])\n"
     ]
    }
   ],
   "source": [
    "import * as torch from \"./index.ts\";\n",
    "\n",
    "const a = new torch.Tensor([1, 2, 3], [3, 1], true);\n",
    "a._name = \"a_tensor\";\n",
    "const b = new torch.Tensor([4, 5, 6], [3, 1], true);\n",
    "b._name = \"b_tensor\";\n",
    "const c = torch.add(a, b);\n",
    "c._name = \"c_tensor\";\n",
    "console.log(\"a:\", a.toString());\n",
    "console.log(\"b:\", b.toString());\n",
    "console.log(\"c:\", c.toString());"
   ]
  },
  {
   "cell_type": "code",
   "execution_count": 2,
   "id": "6de3dc9e",
   "metadata": {},
   "outputs": [
    {
     "data": {
      "text/plain": [
       "\u001b[32m\"Tensor(shape=[2,2])\"\u001b[39m"
      ]
     },
     "execution_count": 2,
     "metadata": {},
     "output_type": "execute_result"
    }
   ],
   "source": [
    "const MN = new torch.Tensor(\n",
    "  [\n",
    "    2, 3,\n",
    "    3, 7\n",
    "  ]\n",
    ", [2, 2])\n",
    "MN.toString()"
   ]
  },
  {
   "cell_type": "code",
   "execution_count": 3,
   "id": "6515a18f",
   "metadata": {},
   "outputs": [
    {
     "data": {
      "text/plain": [
       "\u001b[33mtrue\u001b[39m"
      ]
     },
     "execution_count": 3,
     "metadata": {},
     "output_type": "execute_result"
    }
   ],
   "source": [
    "c.requires_grad"
   ]
  },
  {
   "cell_type": "code",
   "execution_count": 4,
   "id": "7eef84b9",
   "metadata": {},
   "outputs": [
    {
     "data": {
      "text/plain": [
       "\u001b[32m\"e_tensor\"\u001b[39m"
      ]
     },
     "execution_count": 4,
     "metadata": {},
     "output_type": "execute_result"
    }
   ],
   "source": [
    "const d = torch.mul(a, c);\n",
    "d._name = \"d_tensor\";\n",
    "const e = torch.matmul(d, b.transpose());\n",
    "e._name = \"e_tensor\";"
   ]
  },
  {
   "cell_type": "code",
   "execution_count": null,
   "id": "aabbd415",
   "metadata": {},
   "outputs": [
    {
     "ename": "TypeError",
     "evalue": "b.size is not a function",
     "output_type": "error",
     "traceback": [
      "Stack trace:",
      "TypeError: b.size is not a function",
      "    at Object.mul (file:///Users/macbookprom1/Documents/AI/torch-ts/core/backends/cpu.ts:50:24)",
      "    at mul (file:///Users/macbookprom1/Documents/AI/torch-ts/core/ops.ts:51:19)",
      "    at Tensor.out._backward (file:///Users/macbookprom1/Documents/AI/torch-ts/core/ops.ts:58:22)",
      "    at Tensor.backward (file:///Users/macbookprom1/Documents/AI/torch-ts/core/tensor.ts:108:16)",
      "    at <anonymous>:1:24"
     ]
    }
   ],
   "source": [
    "d.backward(new torch.Tensor([0.001, 0.002, 0.003], [3, 1]));\n",
    "// e.backward(new torch.Tensor([0.2, 0.8, 0.7], [1, 3]));"
   ]
  },
  {
   "cell_type": "code",
   "execution_count": 6,
   "id": "9a24eb36",
   "metadata": {},
   "outputs": [
    {
     "name": "stdout",
     "output_type": "stream",
     "text": [
      "Gradient computation graph:\n",
      "Tensor: Tensor(shape=[3,1]) (Name: d_tensor)\n",
      "|  Prev Tensor: Tensor(shape=[3,1]) (Name: a_tensor), Grad: None\n",
      "|  Prev Tensor: Tensor(shape=[3,1]) (Name: c_tensor), Grad: None\n",
      "|  |  Prev Tensor: Tensor(shape=[3,1]) (Name: a_tensor), Grad: None\n",
      "|  |  Prev Tensor: Tensor(shape=[3,1]) (Name: b_tensor), Grad: None\n"
     ]
    }
   ],
   "source": [
    "function logPrevs(tensor: torch.Tensor, indent: string = \"\") {\n",
    "  if (tensor._prev) {\n",
    "    for (let i = 0; i < tensor._prev.length; i++) {\n",
    "      const prev = tensor._prev[i];\n",
    "      console.log(`${indent}Prev Tensor: ${prev.toString()} (Name: ${prev?._name}), Grad: ${prev._grad ? prev._grad.toString() : \"None\"}`);\n",
    "      logPrevs(prev, indent + \"|  \");\n",
    "    }\n",
    "  }\n",
    "}\n",
    "\n",
    "function logTree(tensor: torch.Tensor) {\n",
    "  console.log(\"Gradient computation graph:\");\n",
    "  console.log(`Tensor: ${tensor.toString()} (Name: ${tensor?._name})`);\n",
    "  logPrevs(tensor, \"|  \");\n",
    "}\n",
    "\n",
    "logTree(d);"
   ]
  },
  {
   "cell_type": "code",
   "execution_count": 7,
   "id": "555f4999",
   "metadata": {},
   "outputs": [
    {
     "name": "stdout",
     "output_type": "stream",
     "text": [
      "Gradient computation graph:\n",
      "Tensor: Tensor(shape=[3,3]) (Name: e_tensor)\n",
      "|  Prev Tensor: Tensor(shape=[3,1]) (Name: d_tensor), Grad: 0.0010000000474974513,0.0020000000949949026,0.003000000026077032\n",
      "|  |  Prev Tensor: Tensor(shape=[3,1]) (Name: a_tensor), Grad: None\n",
      "|  |  Prev Tensor: Tensor(shape=[3,1]) (Name: c_tensor), Grad: None\n",
      "|  |  |  Prev Tensor: Tensor(shape=[3,1]) (Name: a_tensor), Grad: None\n",
      "|  |  |  Prev Tensor: Tensor(shape=[3,1]) (Name: b_tensor), Grad: None\n",
      "|  Prev Tensor: Tensor(shape=[1,3]) (Name: undefined), Grad: None\n"
     ]
    }
   ],
   "source": [
    "logTree(e);"
   ]
  },
  {
   "cell_type": "code",
   "execution_count": null,
   "id": "06c6117a-50d1-4f6b-a805-6abea5be18fb",
   "metadata": {},
   "outputs": [],
   "source": []
  },
  {
   "cell_type": "markdown",
   "id": "85a4fec5-13f2-482e-a10f-5a51d4470933",
   "metadata": {},
   "source": [
    "## Simple Neural Network"
   ]
  },
  {
   "cell_type": "code",
   "execution_count": 8,
   "id": "5f79e591-45a9-4d16-bb92-8a6a40dddf3d",
   "metadata": {},
   "outputs": [
    {
     "name": "stdout",
     "output_type": "stream",
     "text": [
      "[ \u001b[33m1\u001b[39m, \u001b[33m4\u001b[39m ] [ \u001b[33m4\u001b[39m, \u001b[33m8\u001b[39m ] [ \u001b[33m1\u001b[39m, \u001b[33m8\u001b[39m ]\n"
     ]
    }
   ],
   "source": [
    "let x = new torch.Tensor([7, 8, 9,5],[1,4]);\n",
    "x._name = \"Input (x)\"\n",
    "\n",
    "let W_1 = torch.Tensor.randn([4,8], true);\n",
    "W_1._name = \"W_1\"\n",
    "let B_1 = torch.Tensor.randn([1,8], true);\n",
    "B_1._name = \"W_2\"\n",
    "\n",
    "console.log(x.shape, W_1.shape, B_1.shape)"
   ]
  },
  {
   "cell_type": "code",
   "execution_count": 9,
   "id": "81061143-06a9-4580-b932-ec02cb0cc69c",
   "metadata": {},
   "outputs": [
    {
     "name": "stdout",
     "output_type": "stream",
     "text": [
      "[ \u001b[33m1\u001b[39m, \u001b[33m8\u001b[39m ] [ \u001b[33m8\u001b[39m, \u001b[33m2\u001b[39m ] [ \u001b[33m1\u001b[39m, \u001b[33m2\u001b[39m ]\n"
     ]
    }
   ],
   "source": [
    "let h_1 = torch.add(torch.matmul(x, W_1), B_1);\n",
    "h_1._name = \"h_1\"\n",
    "\n",
    "let W_2 = torch.Tensor.randn([8,2], true);\n",
    "W_2._name = \"W_2\"\n",
    "let B_2 = torch.Tensor.randn([1,2], true);\n",
    "B_2._name = \"B_2\"\n",
    "\n",
    "console.log(h_1.shape, W_2.shape, B_2.shape)"
   ]
  },
  {
   "cell_type": "code",
   "execution_count": 10,
   "id": "3b7258fd-dc8b-4bc7-b5b0-e78699330bad",
   "metadata": {},
   "outputs": [
    {
     "data": {
      "text/plain": [
       "\u001b[32m\"h_2\"\u001b[39m"
      ]
     },
     "execution_count": 10,
     "metadata": {},
     "output_type": "execute_result"
    }
   ],
   "source": [
    "let h_2 = torch.add(torch.matmul(h_1, W_2), B_2);\n",
    "h_2._name = \"h_2\""
   ]
  },
  {
   "cell_type": "code",
   "execution_count": 11,
   "id": "fd608799-3d72-44d8-8303-862172ea9933",
   "metadata": {
    "scrolled": true
   },
   "outputs": [
    {
     "data": {
      "text/plain": [
       "Tensor {\n",
       "  data: Float32Array(2) [ \u001b[33m-85.49651336669922\u001b[39m, \u001b[33m21.314876556396484\u001b[39m ],\n",
       "  shape: [ \u001b[33m1\u001b[39m, \u001b[33m2\u001b[39m ],\n",
       "  requires_grad: \u001b[33mtrue\u001b[39m,\n",
       "  _grad: \u001b[90mundefined\u001b[39m,\n",
       "  _prev: [\n",
       "    Tensor {\n",
       "      data: Float32Array(2) [ \u001b[33m-85.63175964355469\u001b[39m, \u001b[33m21.314289093017578\u001b[39m ],\n",
       "      shape: [ \u001b[33m1\u001b[39m, \u001b[33m2\u001b[39m ],\n",
       "      requires_grad: \u001b[33mtrue\u001b[39m,\n",
       "      _grad: \u001b[90mundefined\u001b[39m,\n",
       "      _prev: [\n",
       "        Tensor {\n",
       "          data: \u001b[36m[Float32Array]\u001b[39m,\n",
       "          shape: \u001b[36m[Array]\u001b[39m,\n",
       "          requires_grad: \u001b[33mtrue\u001b[39m,\n",
       "          _grad: \u001b[90mundefined\u001b[39m,\n",
       "          _prev: \u001b[36m[Array]\u001b[39m,\n",
       "          _name: \u001b[32m\"h_1\"\u001b[39m,\n",
       "          _backward: \u001b[36m[Function (anonymous)]\u001b[39m\n",
       "        },\n",
       "        Tensor {\n",
       "          data: \u001b[36m[Float32Array]\u001b[39m,\n",
       "          shape: \u001b[36m[Array]\u001b[39m,\n",
       "          requires_grad: \u001b[33mtrue\u001b[39m,\n",
       "          _grad: \u001b[90mundefined\u001b[39m,\n",
       "          _prev: [],\n",
       "          _name: \u001b[32m\"W_2\"\u001b[39m,\n",
       "          _backward: \u001b[90mundefined\u001b[39m\n",
       "        }\n",
       "      ],\n",
       "      _name: \u001b[90mundefined\u001b[39m,\n",
       "      _backward: \u001b[36m[Function (anonymous)]\u001b[39m\n",
       "    },\n",
       "    Tensor {\n",
       "      data: Float32Array(2) [ \u001b[33m0.13524998724460602\u001b[39m, \u001b[33m0.0005876394570805132\u001b[39m ],\n",
       "      shape: [ \u001b[33m1\u001b[39m, \u001b[33m2\u001b[39m ],\n",
       "      requires_grad: \u001b[33mtrue\u001b[39m,\n",
       "      _grad: \u001b[90mundefined\u001b[39m,\n",
       "      _prev: [],\n",
       "      _name: \u001b[32m\"B_2\"\u001b[39m,\n",
       "      _backward: \u001b[90mundefined\u001b[39m\n",
       "    }\n",
       "  ],\n",
       "  _name: \u001b[32m\"h_2\"\u001b[39m,\n",
       "  _backward: \u001b[36m[Function (anonymous)]\u001b[39m\n",
       "}"
      ]
     },
     "execution_count": 11,
     "metadata": {},
     "output_type": "execute_result"
    }
   ],
   "source": [
    "h_2"
   ]
  },
  {
   "cell_type": "code",
   "execution_count": 12,
   "id": "31b09924-17ec-4ad1-9916-4b30e32b954e",
   "metadata": {},
   "outputs": [
    {
     "name": "stdout",
     "output_type": "stream",
     "text": [
      "Gradient computation graph:\n",
      "Tensor: Tensor(shape=[1,2]) (Name: h_2)\n",
      "|  Prev Tensor: Tensor(shape=[1,2]) (Name: undefined), Grad: None\n",
      "|  |  Prev Tensor: Tensor(shape=[1,8]) (Name: h_1), Grad: None\n",
      "|  |  |  Prev Tensor: Tensor(shape=[1,8]) (Name: undefined), Grad: None\n",
      "|  |  |  |  Prev Tensor: Tensor(shape=[1,4]) (Name: Input (x)), Grad: None\n",
      "|  |  |  |  Prev Tensor: Tensor(shape=[4,8]) (Name: W_1), Grad: None\n",
      "|  |  |  Prev Tensor: Tensor(shape=[1,8]) (Name: W_2), Grad: None\n",
      "|  |  Prev Tensor: Tensor(shape=[8,2]) (Name: W_2), Grad: None\n",
      "|  Prev Tensor: Tensor(shape=[1,2]) (Name: B_2), Grad: None\n"
     ]
    }
   ],
   "source": [
    "logTree(h_2);"
   ]
  },
  {
   "cell_type": "code",
   "execution_count": null,
   "id": "cbf3d174-70c7-4231-9e1d-cdc6dc7a0e79",
   "metadata": {},
   "outputs": [
    {
     "ename": "TypeError",
     "evalue": "Cannot read properties of undefined (reading 'length')",
     "output_type": "error",
     "traceback": [
      "Stack trace:",
      "TypeError: Cannot read properties of undefined (reading 'length')",
      "    at Object.matmul (file:///Users/macbookprom1/Documents/AI/torch-ts/core/backends/cpu.ts:7:17)",
      "    at matmul (file:///Users/macbookprom1/Documents/AI/torch-ts/core/ops.ts:5:19)",
      "    at Tensor.out._backward (file:///Users/macbookprom1/Documents/AI/torch-ts/core/ops.ts:13:22)",
      "    at Tensor.backward (file:///Users/macbookprom1/Documents/AI/torch-ts/core/tensor.ts:108:16)",
      "    at <anonymous>:1:26"
     ]
    }
   ],
   "source": [
    "h_2.backward(new torch.Tensor([0.1, 0.3], [1, 2]));"
   ]
  },
  {
   "cell_type": "code",
   "execution_count": 14,
   "id": "7ff002da-5dc1-49f7-8b1c-1b8cd67cfcfd",
   "metadata": {},
   "outputs": [
    {
     "name": "stdout",
     "output_type": "stream",
     "text": [
      "Gradient computation graph:\n",
      "Tensor: Tensor(shape=[1,2]) (Name: h_2)\n",
      "|  Prev Tensor: Tensor(shape=[1,2]) (Name: undefined), Grad: 0.10000000149011612,0.30000001192092896\n",
      "|  |  Prev Tensor: Tensor(shape=[1,8]) (Name: h_1), Grad: None\n",
      "|  |  |  Prev Tensor: Tensor(shape=[1,8]) (Name: undefined), Grad: None\n",
      "|  |  |  |  Prev Tensor: Tensor(shape=[1,4]) (Name: Input (x)), Grad: None\n",
      "|  |  |  |  Prev Tensor: Tensor(shape=[4,8]) (Name: W_1), Grad: None\n",
      "|  |  |  Prev Tensor: Tensor(shape=[1,8]) (Name: W_2), Grad: None\n",
      "|  |  Prev Tensor: Tensor(shape=[8,2]) (Name: W_2), Grad: None\n",
      "|  Prev Tensor: Tensor(shape=[1,2]) (Name: B_2), Grad: 0.10000000149011612,0.30000001192092896\n"
     ]
    }
   ],
   "source": [
    "logTree(h_2);"
   ]
  },
  {
   "cell_type": "code",
   "execution_count": null,
   "id": "bd5de54b-729d-4aa1-8e7e-f779323cd8b6",
   "metadata": {},
   "outputs": [],
   "source": []
  },
  {
   "cell_type": "code",
   "execution_count": 15,
   "id": "05f60f4e-1281-4dcf-a48d-1411eb9fe6dd",
   "metadata": {},
   "outputs": [],
   "source": [
    "// import * as nn from \"https://raw.githubusercontent.com/etornam45/torch-ts/refs/heads/main/dist/bundle.ts\"\n"
   ]
  },
  {
   "cell_type": "code",
   "execution_count": 16,
   "id": "2b5b0edd-fbfa-4ce4-aaa8-9fa5a0af2426",
   "metadata": {},
   "outputs": [],
   "source": [
    "import * as nn from \"./index.ts\";\n",
    "\n",
    "class Model extends nn.Module {\n",
    "  weights: nn.Tensor;\n",
    "  bias: nn.Tensor;\n",
    "\n",
    "  constructor(input_size: number, output_size: number) {\n",
    "    super();\n",
    "    this.weights = nn.Tensor.randn([input_size, output_size]);\n",
    "    this.bias = nn.Tensor.randn([1, output_size]);\n",
    "  }\n",
    "\n",
    "  override forward(x: nn.Tensor) {\n",
    "    return nn.add(nn.matmul(x, this.weights), this.bias);\n",
    "  }\n",
    "\n",
    "  override backward(grad: nn.Tensor) {\n",
    "    this.weights._grad = nn.matmul(grad, this.weights.transpose());\n",
    "    this.bias._grad = grad;\n",
    "  }\n",
    "}\n",
    "\n",
    "const model = new Model(4, 2);\n",
    "// const input = nn.Tensor.randn([1, 4]);\n",
    "// const output = model.forward(input);\n",
    "// output.backward(nn.Tensor.ones([1, 2]));\n",
    "// model.weights._grad\n",
    "// model.bias._grad"
   ]
  }
 ],
 "metadata": {
  "kernelspec": {
   "display_name": "Deno",
   "language": "typescript",
   "name": "deno"
  },
  "language_info": {
   "codemirror_mode": "typescript",
   "file_extension": ".ts",
   "mimetype": "text/x.typescript",
   "name": "typescript",
   "nbconvert_exporter": "script",
   "pygments_lexer": "typescript",
   "version": "5.9.2"
  }
 },
 "nbformat": 4,
 "nbformat_minor": 5
}
