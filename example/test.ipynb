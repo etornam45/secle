{
 "cells": [
  {
   "cell_type": "code",
   "execution_count": null,
   "id": "f9bfd0af",
   "metadata": {},
   "outputs": [],
   "source": [
    "import * as nn from \"../index.ts\"\n",
    "\n",
    "class Model extends nn.Module {\n",
    "  linear: nn.Linear;\n",
    "  linear2: nn.Linear;\n",
    "\n",
    "  constructor(input_size: number, output_size: number) {\n",
    "    super();\n",
    "    this.linear = new nn.Linear(input_size, 10);\n",
    "    this.linear2 = new nn.Linear(10, output_size);\n",
    "    this.register_parameters([this.linear, this.linear2]);\n",
    "  }\n",
    "\n",
    "  override forward(x: nn.Tensor): nn.Tensor {\n",
    "    return this.linear2.$(this.linear.$(x));\n",
    "  }\n",
    "}\n"
   ]
  },
  {
   "cell_type": "code",
   "execution_count": null,
   "id": "1dc83511",
   "metadata": {},
   "outputs": [
    {
     "data": {
      "text/plain": [
       "Float32Array(1) [ \u001b[33m-20\u001b[39m ]"
      ]
     },
     "execution_count": 9,
     "metadata": {},
     "output_type": "execute_result"
    }
   ],
   "source": [
    "function create_data(start: number, end: number, num_points: number): { x: nn.Tensor, y: nn.Tensor }[] {\n",
    "  const data = [];\n",
    "  for (let i = 0; i < num_points; i++) {\n",
    "    const x = nn.Tensor.fromArray([start + (end - start) * i / (num_points - 1)], [1, 1], false); // Input data shouldn't require gradients\n",
    "    const y = new nn.Tensor([Math.sin(x.data[0])], [1, 1]);\n",
    "    data.push({ x: x, y: y });\n",
    "  }\n",
    "  return data;\n",
    "}\n",
    "\n",
    "\n",
    "const data = create_data(-20, 20, 1000);\n",
    "data[0].x.data"
   ]
  },
  {
   "cell_type": "code",
   "execution_count": 3,
   "id": "f4768dc9",
   "metadata": {},
   "outputs": [],
   "source": [
    "const model = new Model(1, 1);\n",
    "const optimizer = new nn.SGD(model.parameters, 0.001);"
   ]
  },
  {
   "cell_type": "code",
   "execution_count": 11,
   "id": "02753840",
   "metadata": {},
   "outputs": [
    {
     "data": {
      "text/plain": [
       "[ \u001b[33m1\u001b[39m, \u001b[33m10\u001b[39m ]"
      ]
     },
     "execution_count": 11,
     "metadata": {},
     "output_type": "execute_result"
    }
   ],
   "source": [
    "model.linear.weights.shape"
   ]
  },
  {
   "cell_type": "code",
   "execution_count": 4,
   "id": "abcb4ddc",
   "metadata": {},
   "outputs": [
    {
     "name": "stdout",
     "output_type": "stream",
     "text": [
      "Linear(in_features=1, out_features=10): Parameter: 1x10\n",
      "  Parameter: 1x10\n",
      "Linear(in_features=10, out_features=1): Parameter: 10x1\n",
      "  Parameter: 1x1\n"
     ]
    }
   ],
   "source": [
    "console.log(model.summary());"
   ]
  },
  {
   "cell_type": "code",
   "execution_count": 5,
   "id": "6a1818ec",
   "metadata": {},
   "outputs": [
    {
     "name": "stdout",
     "output_type": "stream",
     "text": [
      "Epoch loss: 13.143708383185333\n"
     ]
    },
    {
     "name": "stdout",
     "output_type": "stream",
     "text": [
      "Epoch loss: 0.029090127981200198\n",
      "Epoch loss: 0.03874591906785722\n",
      "Epoch loss: 0.026753975581521018\n",
      "Epoch loss: 0.03216044470901177\n",
      "Epoch loss: 0.02755357801989129\n",
      "Epoch loss: 0.030123533669263337\n",
      "Epoch loss: 0.028241575195919924\n",
      "Epoch loss: 0.029399266753229486\n",
      "Epoch loss: 0.028606694033900915\n",
      "Epoch loss: 0.029119738910970597\n",
      "Epoch loss: 0.028782338270188147\n",
      "Epoch loss: 0.029010263604031115\n",
      "Epoch loss: 0.028867577560504388\n",
      "Epoch loss: 0.028971016380218675\n",
      "Epoch loss: 0.028912979644464373\n",
      "Epoch loss: 0.02896254949462947\n",
      "Epoch loss: 0.02894176011890485\n",
      "Epoch loss: 0.02896832488471105\n",
      "Epoch loss: 0.02896445542459517\n",
      "Epoch loss: 0.028981620479830383\n",
      "Epoch loss: 0.02898579448298317\n",
      "Epoch loss: 0.02899942781167707\n",
      "Epoch loss: 0.02900780325647543\n",
      "Epoch loss: 0.029020699445944816\n",
      "Epoch loss: 0.029031630807755324\n",
      "Epoch loss: 0.029044922529322455\n",
      "Epoch loss: 0.029057644058701627\n",
      "Epoch loss: 0.029071816741370243\n",
      "Epoch loss: 0.029086176990569583\n",
      "Epoch loss: 0.02910154301943561\n",
      "Epoch loss: 0.02911743906518869\n",
      "Epoch loss: 0.029134143084318977\n",
      "Epoch loss: 0.029151469993335056\n",
      "Epoch loss: 0.02916955187995019\n",
      "Epoch loss: 0.02918836277704992\n",
      "Epoch loss: 0.02920786845040617\n",
      "Epoch loss: 0.02922808439109504\n",
      "Epoch loss: 0.029249105356556157\n",
      "Epoch loss: 0.0292708414845707\n",
      "Epoch loss: 0.02929325782210664\n",
      "Epoch loss: 0.029316523003151664\n",
      "Epoch loss: 0.02934043179691919\n",
      "Epoch loss: 0.02936512371673513\n",
      "Epoch loss: 0.02939056868126491\n",
      "Epoch loss: 0.029416680308006805\n",
      "Epoch loss: 0.029443546986987926\n",
      "Epoch loss: 0.029471023155821587\n",
      "Epoch loss: 0.02949927500745065\n",
      "Epoch loss: 0.029528188254333034\n",
      "Epoch loss: 0.029557769884318987\n",
      "Epoch loss: 0.029588063371078804\n",
      "Epoch loss: 0.02961900681970856\n",
      "Epoch loss: 0.029650555637932872\n",
      "Epoch loss: 0.029682708422989805\n",
      "Epoch loss: 0.02971549277958403\n",
      "Epoch loss: 0.02974879112041902\n",
      "Epoch loss: 0.029782719800305404\n",
      "Epoch loss: 0.029817077925439407\n",
      "Epoch loss: 0.029852004323792033\n",
      "Epoch loss: 0.029887428182198562\n",
      "Epoch loss: 0.02992329225596662\n",
      "Epoch loss: 0.029959640985841963\n",
      "Epoch loss: 0.02999632195711962\n",
      "Epoch loss: 0.030033392524604473\n",
      "Epoch loss: 0.030070819360880623\n",
      "Epoch loss: 0.030108499503427727\n",
      "Epoch loss: 0.030146497079056152\n",
      "Epoch loss: 0.030184650940617827\n",
      "Epoch loss: 0.030223082658676854\n",
      "Epoch loss: 0.03026164543338098\n",
      "Epoch loss: 0.03030039216620074\n",
      "Epoch loss: 0.03033914562784145\n",
      "Epoch loss: 0.03037796144884956\n",
      "Epoch loss: 0.030416820666459787\n",
      "Epoch loss: 0.030455604208072407\n",
      "Epoch loss: 0.0304943661924454\n",
      "Epoch loss: 0.0305329397960289\n",
      "Epoch loss: 0.030571343347868606\n",
      "Epoch loss: 0.030609511087731193\n",
      "Epoch loss: 0.030647441495923942\n",
      "Epoch loss: 0.03068510504890183\n",
      "Epoch loss: 0.03072239308923483\n",
      "Epoch loss: 0.03075931434862078\n",
      "Epoch loss: 0.030795765828161372\n",
      "Epoch loss: 0.030831691559408174\n",
      "Epoch loss: 0.030867157265887787\n",
      "Epoch loss: 0.03090197464888118\n",
      "Epoch loss: 0.03093619246144087\n",
      "Epoch loss: 0.030969682875689925\n",
      "Epoch loss: 0.03100247371983876\n",
      "Epoch loss: 0.031034518973912597\n",
      "Epoch loss: 0.031065742027363938\n",
      "Epoch loss: 0.031096178566392896\n",
      "Epoch loss: 0.031125612234875834\n",
      "Epoch loss: 0.031154171143928225\n",
      "Epoch loss: 0.03118168302948216\n",
      "Epoch loss: 0.031208212909665065\n",
      "Epoch loss: 0.031233693497698244\n",
      "Epoch loss: 0.03125800559476321\n",
      "Total loss: 16.10143962315857\n"
     ]
    }
   ],
   "source": [
    "let total_loss: number[] = [];\n",
    "for (let i = 0; i < 100; i++) {\n",
    "  let epoch_loss: number[] = [];\n",
    "  for (const { x, y } of data) {\n",
    "    const output = model.$(x);\n",
    "    const loss = nn.mean(nn.pow(nn.sub(output, y), 2));\n",
    "    loss.backward();\n",
    "    optimizer.step();\n",
    "    epoch_loss.push(loss.data[0]);\n",
    "    optimizer.zeroGrad();\n",
    "  }\n",
    "  let loss = epoch_loss.reduce((a, b) => a + b, 0) / epoch_loss.length\n",
    "  console.log(\"Epoch loss:\", loss);\n",
    "  epoch_loss = [];\n",
    "  total_loss.push(loss)\n",
    "}\n",
    "console.log(\"Total loss:\", total_loss.reduce((a, b) => a + b, 0));\n"
   ]
  },
  {
   "cell_type": "code",
   "execution_count": null,
   "id": "7d8aff7d",
   "metadata": {},
   "outputs": [],
   "source": []
  },
  {
   "cell_type": "code",
   "execution_count": null,
   "id": "cd8b0460",
   "metadata": {},
   "outputs": [
    {
     "data": {
      "text/plain": [
       "[\n",
       "    \u001b[33m13.143708383185333\u001b[39m, \u001b[33m0.029090127981200198\u001b[39m,  \u001b[33m0.03874591906785722\u001b[39m,\n",
       "  \u001b[33m0.026753975581521018\u001b[39m,  \u001b[33m0.03216044470901177\u001b[39m,  \u001b[33m0.02755357801989129\u001b[39m,\n",
       "  \u001b[33m0.030123533669263337\u001b[39m, \u001b[33m0.028241575195919924\u001b[39m, \u001b[33m0.029399266753229486\u001b[39m,\n",
       "  \u001b[33m0.028606694033900915\u001b[39m, \u001b[33m0.029119738910970597\u001b[39m, \u001b[33m0.028782338270188147\u001b[39m,\n",
       "  \u001b[33m0.029010263604031115\u001b[39m, \u001b[33m0.028867577560504388\u001b[39m, \u001b[33m0.028971016380218675\u001b[39m,\n",
       "  \u001b[33m0.028912979644464373\u001b[39m,  \u001b[33m0.02896254949462947\u001b[39m,  \u001b[33m0.02894176011890485\u001b[39m,\n",
       "   \u001b[33m0.02896832488471105\u001b[39m,  \u001b[33m0.02896445542459517\u001b[39m, \u001b[33m0.028981620479830383\u001b[39m,\n",
       "   \u001b[33m0.02898579448298317\u001b[39m,  \u001b[33m0.02899942781167707\u001b[39m,  \u001b[33m0.02900780325647543\u001b[39m,\n",
       "  \u001b[33m0.029020699445944816\u001b[39m, \u001b[33m0.029031630807755324\u001b[39m, \u001b[33m0.029044922529322455\u001b[39m,\n",
       "  \u001b[33m0.029057644058701627\u001b[39m, \u001b[33m0.029071816741370243\u001b[39m, \u001b[33m0.029086176990569583\u001b[39m,\n",
       "   \u001b[33m0.02910154301943561\u001b[39m,  \u001b[33m0.02911743906518869\u001b[39m, \u001b[33m0.029134143084318977\u001b[39m,\n",
       "  \u001b[33m0.029151469993335056\u001b[39m,  \u001b[33m0.02916955187995019\u001b[39m,  \u001b[33m0.02918836277704992\u001b[39m,\n",
       "   \u001b[33m0.02920786845040617\u001b[39m,  \u001b[33m0.02922808439109504\u001b[39m, \u001b[33m0.029249105356556157\u001b[39m,\n",
       "    \u001b[33m0.0292708414845707\u001b[39m,  \u001b[33m0.02929325782210664\u001b[39m, \u001b[33m0.029316523003151664\u001b[39m,\n",
       "   \u001b[33m0.02934043179691919\u001b[39m,  \u001b[33m0.02936512371673513\u001b[39m,  \u001b[33m0.02939056868126491\u001b[39m,\n",
       "  \u001b[33m0.029416680308006805\u001b[39m, \u001b[33m0.029443546986987926\u001b[39m, \u001b[33m0.029471023155821587\u001b[39m,\n",
       "   \u001b[33m0.02949927500745065\u001b[39m, \u001b[33m0.029528188254333034\u001b[39m, \u001b[33m0.029557769884318987\u001b[39m,\n",
       "  \u001b[33m0.029588063371078804\u001b[39m,  \u001b[33m0.02961900681970856\u001b[39m, \u001b[33m0.029650555637932872\u001b[39m,\n",
       "  \u001b[33m0.029682708422989805\u001b[39m,  \u001b[33m0.02971549277958403\u001b[39m,  \u001b[33m0.02974879112041902\u001b[39m,\n",
       "  \u001b[33m0.029782719800305404\u001b[39m, \u001b[33m0.029817077925439407\u001b[39m, \u001b[33m0.029852004323792033\u001b[39m,\n",
       "  \u001b[33m0.029887428182198562\u001b[39m,  \u001b[33m0.02992329225596662\u001b[39m, \u001b[33m0.029959640985841963\u001b[39m,\n",
       "   \u001b[33m0.02999632195711962\u001b[39m, \u001b[33m0.030033392524604473\u001b[39m, \u001b[33m0.030070819360880623\u001b[39m,\n",
       "  \u001b[33m0.030108499503427727\u001b[39m, \u001b[33m0.030146497079056152\u001b[39m, \u001b[33m0.030184650940617827\u001b[39m,\n",
       "  \u001b[33m0.030223082658676854\u001b[39m,  \u001b[33m0.03026164543338098\u001b[39m,  \u001b[33m0.03030039216620074\u001b[39m,\n",
       "   \u001b[33m0.03033914562784145\u001b[39m,  \u001b[33m0.03037796144884956\u001b[39m, \u001b[33m0.030416820666459787\u001b[39m,\n",
       "  \u001b[33m0.030455604208072407\u001b[39m,   \u001b[33m0.0304943661924454\u001b[39m,   \u001b[33m0.0305329397960289\u001b[39m,\n",
       "  \u001b[33m0.030571343347868606\u001b[39m, \u001b[33m0.030609511087731193\u001b[39m, \u001b[33m0.030647441495923942\u001b[39m,\n",
       "   \u001b[33m0.03068510504890183\u001b[39m,  \u001b[33m0.03072239308923483\u001b[39m,  \u001b[33m0.03075931434862078\u001b[39m,\n",
       "  \u001b[33m0.030795765828161372\u001b[39m, \u001b[33m0.030831691559408174\u001b[39m, \u001b[33m0.030867157265887787\u001b[39m,\n",
       "   \u001b[33m0.03090197464888118\u001b[39m,  \u001b[33m0.03093619246144087\u001b[39m, \u001b[33m0.030969682875689925\u001b[39m,\n",
       "   \u001b[33m0.03100247371983876\u001b[39m, \u001b[33m0.031034518973912597\u001b[39m, \u001b[33m0.031065742027363938\u001b[39m,\n",
       "  \u001b[33m0.031096178566392896\u001b[39m, \u001b[33m0.031125612234875834\u001b[39m, \u001b[33m0.031154171143928225\u001b[39m,\n",
       "   \u001b[33m0.03118168302948216\u001b[39m, \u001b[33m0.031208212909665065\u001b[39m, \u001b[33m0.031233693497698244\u001b[39m,\n",
       "   \u001b[33m0.03125800559476321\u001b[39m\n",
       "]"
      ]
     },
     "execution_count": 7,
     "metadata": {},
     "output_type": "execute_result"
    }
   ],
   "source": [
    "// total_loss"
   ]
  },
  {
   "cell_type": "code",
   "execution_count": 8,
   "id": "a235b653",
   "metadata": {},
   "outputs": [
    {
     "data": {
      "image/svg+xml": [
       "<svg xmlns=\"http://www.w3.org/2000/svg\" viewBox=\"0 0 400 200\" width=\"400\" height=\"200\">\n",
       "  <!-- Grid -->\n",
       "  <line x1=\"40\" y1=\"30\" x2=\"40\" y2=\"170\" stroke=\"#e0e0e0\" stroke-width=\"1\"/>\n",
       "  <line x1=\"108\" y1=\"30\" x2=\"108\" y2=\"170\" stroke=\"#e0e0e0\" stroke-width=\"1\"/>\n",
       "  <line x1=\"176\" y1=\"30\" x2=\"176\" y2=\"170\" stroke=\"#e0e0e0\" stroke-width=\"1\"/>\n",
       "  <line x1=\"244\" y1=\"30\" x2=\"244\" y2=\"170\" stroke=\"#e0e0e0\" stroke-width=\"1\"/>\n",
       "  <line x1=\"312\" y1=\"30\" x2=\"312\" y2=\"170\" stroke=\"#e0e0e0\" stroke-width=\"1\"/>\n",
       "  <line x1=\"380\" y1=\"30\" x2=\"380\" y2=\"170\" stroke=\"#e0e0e0\" stroke-width=\"1\"/>\n",
       "  <line x1=\"40\" y1=\"30\" x2=\"380\" y2=\"30\" stroke=\"#e0e0e0\" stroke-width=\"1\"/>\n",
       "  <line x1=\"40\" y1=\"65\" x2=\"380\" y2=\"65\" stroke=\"#e0e0e0\" stroke-width=\"1\"/>\n",
       "  <line x1=\"40\" y1=\"100\" x2=\"380\" y2=\"100\" stroke=\"#e0e0e0\" stroke-width=\"1\"/>\n",
       "  <line x1=\"40\" y1=\"135\" x2=\"380\" y2=\"135\" stroke=\"#e0e0e0\" stroke-width=\"1\"/>\n",
       "  <line x1=\"40\" y1=\"170\" x2=\"380\" y2=\"170\" stroke=\"#e0e0e0\" stroke-width=\"1\"/>\n",
       "  \n",
       "  <!-- Axes -->\n",
       "  <line x1=\"40\" y1=\"30\" x2=\"40\" y2=\"170\" stroke=\"#333\" stroke-width=\"2\"/>\n",
       "  <line x1=\"40\" y1=\"170\" x2=\"380\" y2=\"170\" stroke=\"#333\" stroke-width=\"2\"/>\n",
       "  \n",
       "  <!-- Axis labels -->\n",
       "  <text x=\"40\" y=\"190\" text-anchor=\"middle\" font-size=\"10\" fill=\"#666\">0</text>\n",
       "  <text x=\"108\" y=\"190\" text-anchor=\"middle\" font-size=\"10\" fill=\"#666\">20</text>\n",
       "  <text x=\"176\" y=\"190\" text-anchor=\"middle\" font-size=\"10\" fill=\"#666\">40</text>\n",
       "  <text x=\"244\" y=\"190\" text-anchor=\"middle\" font-size=\"10\" fill=\"#666\">59</text>\n",
       "  <text x=\"312\" y=\"190\" text-anchor=\"middle\" font-size=\"10\" fill=\"#666\">79</text>\n",
       "  <text x=\"380\" y=\"190\" text-anchor=\"middle\" font-size=\"10\" fill=\"#666\">99</text>\n",
       "  <text x=\"35\" y=\"33\" text-anchor=\"end\" font-size=\"10\" fill=\"#666\">14.46</text>\n",
       "  <text x=\"35\" y=\"68\" text-anchor=\"end\" font-size=\"10\" fill=\"#666\">10.84</text>\n",
       "  <text x=\"35\" y=\"103\" text-anchor=\"end\" font-size=\"10\" fill=\"#666\">7.23</text>\n",
       "  <text x=\"35\" y=\"138\" text-anchor=\"end\" font-size=\"10\" fill=\"#666\">3.61</text>\n",
       "  <text x=\"35\" y=\"173\" text-anchor=\"end\" font-size=\"10\" fill=\"#666\">0.00</text>\n",
       "  \n",
       "  <!-- Plot line -->\n",
       "  <polyline\n",
       "    fill=\"none\"\n",
       "    stroke=\"steelblue\"\n",
       "    stroke-width=\"2\"\n",
       "    points=\"40.00,42.70 43.43,169.72 46.87,169.62 50.30,169.74 53.74,169.69 57.17,169.73 60.61,169.71 64.04,169.73 67.47,169.72 70.91,169.72 74.34,169.72 77.78,169.72 81.21,169.72 84.65,169.72 88.08,169.72 91.52,169.72 94.95,169.72 98.38,169.72 101.82,169.72 105.25,169.72 108.69,169.72 112.12,169.72 115.56,169.72 118.99,169.72 122.42,169.72 125.86,169.72 129.29,169.72 132.73,169.72 136.16,169.72 139.60,169.72 143.03,169.72 146.46,169.72 149.90,169.72 153.33,169.72 156.77,169.72 160.20,169.72 163.64,169.72 167.07,169.72 170.51,169.72 173.94,169.72 177.37,169.72 180.81,169.72 184.24,169.72 187.68,169.72 191.11,169.72 194.55,169.72 197.98,169.71 201.41,169.71 204.85,169.71 208.28,169.71 211.72,169.71 215.15,169.71 218.59,169.71 222.02,169.71 225.45,169.71 228.89,169.71 232.32,169.71 235.76,169.71 239.19,169.71 242.63,169.71 246.06,169.71 249.49,169.71 252.93,169.71 256.36,169.71 259.80,169.71 263.23,169.71 266.67,169.71 270.10,169.71 273.54,169.71 276.97,169.71 280.40,169.71 283.84,169.71 287.27,169.71 290.71,169.71 294.14,169.71 297.58,169.71 301.01,169.70 304.44,169.70 307.88,169.70 311.31,169.70 314.75,169.70 318.18,169.70 321.62,169.70 325.05,169.70 328.48,169.70 331.92,169.70 335.35,169.70 338.79,169.70 342.22,169.70 345.66,169.70 349.09,169.70 352.53,169.70 355.96,169.70 359.39,169.70 362.83,169.70 366.26,169.70 369.70,169.70 373.13,169.70 376.57,169.70 380.00,169.70\"\n",
       "  />\n",
       "  \n",
       "  <!-- Title -->\n",
       "  <text x=\"200\" y=\"15\" text-anchor=\"middle\" font-size=\"12\" font-weight=\"bold\" fill=\"#333\">\n",
       "    Training Loss\n",
       "  </text>\n",
       "  \n",
       "  <!-- Axis titles -->\n",
       "  <text x=\"200\" y=\"195\" text-anchor=\"middle\" font-size=\"11\" fill=\"#333\">Iterations</text>\n",
       "  <text x=\"10\" y=\"100\" text-anchor=\"middle\" font-size=\"11\" fill=\"#333\" transform=\"rotate(-90, 10, 100)\">Loss</text>\n",
       "</svg>"
      ]
     },
     "execution_count": 8,
     "metadata": {},
     "output_type": "execute_result"
    }
   ],
   "source": [
    "const svg = plotLossSVG(total_loss);\n",
    "Deno.jupyter.svg`${svg}`;"
   ]
  }
 ],
 "metadata": {
  "kernelspec": {
   "display_name": "Deno",
   "language": "typescript",
   "name": "deno"
  },
  "language_info": {
   "codemirror_mode": "typescript",
   "file_extension": ".ts",
   "mimetype": "text/x.typescript",
   "name": "typescript",
   "nbconvert_exporter": "script",
   "pygments_lexer": "typescript",
   "version": "5.9.2"
  }
 },
 "nbformat": 4,
 "nbformat_minor": 5
}
